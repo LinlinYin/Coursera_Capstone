{
    "cells": [
        {
            "cell_type": "code",
            "execution_count": 45,
            "metadata": {},
            "outputs": [],
            "source": "import requests\nfrom bs4 import BeautifulSoup\nimport pandas as pd"
        },
        {
            "cell_type": "markdown",
            "metadata": {},
            "source": "# Scrape the following Wikipedia page using requests and BeautifulSoap\n# Get all the data in table"
        },
        {
            "cell_type": "code",
            "execution_count": 46,
            "metadata": {},
            "outputs": [],
            "source": "r=requests.get(\"https://en.wikipedia.org/wiki/List_of_postal_codes_of_Canada:_M\")\nsoup = BeautifulSoup(r.text, 'html.parser')\n"
        },
        {
            "cell_type": "code",
            "execution_count": 47,
            "metadata": {},
            "outputs": [
                {
                    "name": "stdout",
                    "output_type": "stream",
                    "text": "[[[], ['M1A', 'Not assigned', 'Not assigned'], ['M2A', 'Not assigned', 'Not assigned'], ['M3A', 'North York', 'Parkwoods'], ['M4A', 'North York', 'Victoria Village'], ['M5A', 'Downtown Toronto', 'Regent Park, Harbourfront'], ['M6A', 'North York', 'Lawrence Manor, Lawrence Heights'], ['M7A', 'Downtown Toronto', \"Queen's Park, Ontario Provincial Government\"], ['M8A', 'Not assigned', 'Not assigned'], ['M9A', 'Etobicoke', 'Islington Avenue, Humber Valley Village'], ['M1B', 'Scarborough', 'Malvern, Rouge'], ['M2B', 'Not assigned', 'Not assigned'], ['M3B', 'North York', 'Don Mills'], ['M4B', 'East York', 'Parkview Hill, Woodbine Gardens'], ['M5B', 'Downtown Toronto', 'Garden District, Ryerson'], ['M6B', 'North York', 'Glencairn'], ['M7B', 'Not assigned', 'Not assigned'], ['M8B', 'Not assigned', 'Not assigned'], ['M9B', 'Etobicoke', 'West Deane Park, Princess Gardens, Martin Grove, Islington, Cloverdale'], ['M1C', 'Scarborough', 'Rouge Hill, Port Union, Highland Creek'], ['M2C', 'Not assigned', 'Not assigned'], ['M3C', 'North York', 'Don Mills'], ['M4C', 'East York', 'Woodbine Heights'], ['M5C', 'Downtown Toronto', 'St. James Town'], ['M6C', 'York', 'Humewood-Cedarvale'], ['M7C', 'Not assigned', 'Not assigned'], ['M8C', 'Not assigned', 'Not assigned'], ['M9C', 'Etobicoke', 'Eringate, Bloordale Gardens, Old Burnhamthorpe, Markland Wood'], ['M1E', 'Scarborough', 'Guildwood, Morningside, West Hill'], ['M2E', 'Not assigned', 'Not assigned'], ['M3E', 'Not assigned', 'Not assigned'], ['M4E', 'East Toronto', 'The Beaches'], ['M5E', 'Downtown Toronto', 'Berczy Park'], ['M6E', 'York', 'Caledonia-Fairbanks'], ['M7E', 'Not assigned', 'Not assigned'], ['M8E', 'Not assigned', 'Not assigned'], ['M9E', 'Not assigned', 'Not assigned'], ['M1G', 'Scarborough', 'Woburn'], ['M2G', 'Not assigned', 'Not assigned'], ['M3G', 'Not assigned', 'Not assigned'], ['M4G', 'East York', 'Leaside'], ['M5G', 'Downtown Toronto', 'Central Bay Street'], ['M6G', 'Downtown Toronto', 'Christie'], ['M7G', 'Not assigned', 'Not assigned'], ['M8G', 'Not assigned', 'Not assigned'], ['M9G', 'Not assigned', 'Not assigned'], ['M1H', 'Scarborough', 'Cedarbrae'], ['M2H', 'North York', 'Hillcrest Village'], ['M3H', 'North York', 'Bathurst Manor, Wilson Heights, Downsview North'], ['M4H', 'East York', 'Thorncliffe Park'], ['M5H', 'Downtown Toronto', 'Richmond, Adelaide, King'], ['M6H', 'West Toronto', 'Dufferin, Dovercourt Village'], ['M7H', 'Not assigned', 'Not assigned'], ['M8H', 'Not assigned', 'Not assigned'], ['M9H', 'Not assigned', 'Not assigned'], ['M1J', 'Scarborough', 'Scarborough Village'], ['M2J', 'North York', 'Fairview, Henry Farm, Oriole'], ['M3J', 'North York', 'Northwood Park, York University'], ['M4J', 'East York', 'East Toronto, Broadview North (Old East York)'], ['M5J', 'Downtown Toronto', 'Harbourfront East, Union Station, Toronto Islands'], ['M6J', 'West Toronto', 'Little Portugal, Trinity'], ['M7J', 'Not assigned', 'Not assigned'], ['M8J', 'Not assigned', 'Not assigned'], ['M9J', 'Not assigned', 'Not assigned'], ['M1K', 'Scarborough', 'Kennedy Park, Ionview, East Birchmount Park'], ['M2K', 'North York', 'Bayview Village'], ['M3K', 'North York', 'Downsview'], ['M4K', 'East Toronto', 'The Danforth West, Riverdale'], ['M5K', 'Downtown Toronto', 'Toronto Dominion Centre, Design Exchange'], ['M6K', 'West Toronto', 'Brockton, Parkdale Village, Exhibition Place'], ['M7K', 'Not assigned', 'Not assigned'], ['M8K', 'Not assigned', 'Not assigned'], ['M9K', 'Not assigned', 'Not assigned'], ['M1L', 'Scarborough', 'Golden Mile, Clairlea, Oakridge'], ['M2L', 'North York', 'York Mills, Silver Hills'], ['M3L', 'North York', 'Downsview'], ['M4L', 'East Toronto', 'India Bazaar, The Beaches West'], ['M5L', 'Downtown Toronto', 'Commerce Court, Victoria Hotel'], ['M6L', 'North York', 'North Park, Maple Leaf Park, Upwood Park'], ['M7L', 'Not assigned', 'Not assigned'], ['M8L', 'Not assigned', 'Not assigned'], ['M9L', 'North York', 'Humber Summit'], ['M1M', 'Scarborough', 'Cliffside, Cliffcrest, Scarborough Village West'], ['M2M', 'North York', 'Willowdale, Newtonbrook'], ['M3M', 'North York', 'Downsview'], ['M4M', 'East Toronto', 'Studio District'], ['M5M', 'North York', 'Bedford Park, Lawrence Manor East'], ['M6M', 'York', 'Del Ray, Mount Dennis, Keelsdale and Silverthorn'], ['M7M', 'Not assigned', 'Not assigned'], ['M8M', 'Not assigned', 'Not assigned'], ['M9M', 'North York', 'Humberlea, Emery'], ['M1N', 'Scarborough', 'Birch Cliff, Cliffside West'], ['M2N', 'North York', 'Willowdale, Willowdale East'], ['M3N', 'North York', 'Downsview'], ['M4N', 'Central Toronto', 'Lawrence Park'], ['M5N', 'Central Toronto', 'Roselawn'], ['M6N', 'York', 'Runnymede, The Junction North'], ['M7N', 'Not assigned', 'Not assigned'], ['M8N', 'Not assigned', 'Not assigned'], ['M9N', 'York', 'Weston'], ['M1P', 'Scarborough', 'Dorset Park, Wexford Heights, Scarborough Town Centre'], ['M2P', 'North York', 'York Mills West'], ['M3P', 'Not assigned', 'Not assigned'], ['M4P', 'Central Toronto', 'Davisville North'], ['M5P', 'Central Toronto', 'Forest Hill North & West, Forest Hill Road Park'], ['M6P', 'West Toronto', 'High Park, The Junction South'], ['M7P', 'Not assigned', 'Not assigned'], ['M8P', 'Not assigned', 'Not assigned'], ['M9P', 'Etobicoke', 'Westmount'], ['M1R', 'Scarborough', 'Wexford, Maryvale'], ['M2R', 'North York', 'Willowdale, Willowdale West'], ['M3R', 'Not assigned', 'Not assigned'], ['M4R', 'Central Toronto', 'North Toronto West,  Lawrence Park'], ['M5R', 'Central Toronto', 'The Annex, North Midtown, Yorkville'], ['M6R', 'West Toronto', 'Parkdale, Roncesvalles'], ['M7R', 'Mississauga', 'Canada Post Gateway Processing Centre'], ['M8R', 'Not assigned', 'Not assigned'], ['M9R', 'Etobicoke', 'Kingsview Village, St. Phillips, Martin Grove Gardens, Richview Gardens'], ['M1S', 'Scarborough', 'Agincourt'], ['M2S', 'Not assigned', 'Not assigned'], ['M3S', 'Not assigned', 'Not assigned'], ['M4S', 'Central Toronto', 'Davisville'], ['M5S', 'Downtown Toronto', 'University of Toronto, Harbord'], ['M6S', 'West Toronto', 'Runnymede, Swansea'], ['M7S', 'Not assigned', 'Not assigned'], ['M8S', 'Not assigned', 'Not assigned'], ['M9S', 'Not assigned', 'Not assigned'], ['M1T', 'Scarborough', \"Clarks Corners, Tam O'Shanter, Sullivan\"], ['M2T', 'Not assigned', 'Not assigned'], ['M3T', 'Not assigned', 'Not assigned'], ['M4T', 'Central Toronto', 'Moore Park, Summerhill East'], ['M5T', 'Downtown Toronto', 'Kensington Market, Chinatown, Grange Park'], ['M6T', 'Not assigned', 'Not assigned'], ['M7T', 'Not assigned', 'Not assigned'], ['M8T', 'Not assigned', 'Not assigned'], ['M9T', 'Not assigned', 'Not assigned'], ['M1V', 'Scarborough', \"Milliken, Agincourt North, Steeles East, L'Amoreaux East\"], ['M2V', 'Not assigned', 'Not assigned'], ['M3V', 'Not assigned', 'Not assigned'], ['M4V', 'Central Toronto', 'Summerhill West, Rathnelly, South Hill, Forest Hill SE, Deer Park'], ['M5V', 'Downtown Toronto', 'CN Tower, King and Spadina, Railway Lands, Harbourfront West, Bathurst Quay, South Niagara, Island airport'], ['M6V', 'Not assigned', 'Not assigned'], ['M7V', 'Not assigned', 'Not assigned'], ['M8V', 'Etobicoke', 'New Toronto, Mimico South, Humber Bay Shores'], ['M9V', 'Etobicoke', 'South Steeles, Silverstone, Humbergate, Jamestown, Mount Olive, Beaumond Heights, Thistletown, Albion Gardens'], ['M1W', 'Scarborough', \"Steeles West, L'Amoreaux West\"], ['M2W', 'Not assigned', 'Not assigned'], ['M3W', 'Not assigned', 'Not assigned'], ['M4W', 'Downtown Toronto', 'Rosedale'], ['M5W', 'Downtown Toronto', 'Stn A PO Boxes'], ['M6W', 'Not assigned', 'Not assigned'], ['M7W', 'Not assigned', 'Not assigned'], ['M8W', 'Etobicoke', 'Alderwood, Long Branch'], ['M9W', 'Etobicoke', 'Northwest, West Humber - Clairville'], ['M1X', 'Scarborough', 'Upper Rouge'], ['M2X', 'Not assigned', 'Not assigned'], ['M3X', 'Not assigned', 'Not assigned'], ['M4X', 'Downtown Toronto', 'St. James Town, Cabbagetown'], ['M5X', 'Downtown Toronto', 'First Canadian Place, Underground city'], ['M6X', 'Not assigned', 'Not assigned'], ['M7X', 'Not assigned', 'Not assigned'], ['M8X', 'Etobicoke', 'The Kingsway, Montgomery Road, Old Mill North'], ['M9X', 'Not assigned', 'Not assigned'], ['M1Y', 'Not assigned', 'Not assigned'], ['M2Y', 'Not assigned', 'Not assigned'], ['M3Y', 'Not assigned', 'Not assigned'], ['M4Y', 'Downtown Toronto', 'Church and Wellesley'], ['M5Y', 'Not assigned', 'Not assigned'], ['M6Y', 'Not assigned', 'Not assigned'], ['M7Y', 'East Toronto', 'Business reply mail Processing Centre, South Central Letter Processing Plant Toronto'], ['M8Y', 'Etobicoke', \"Old Mill South, King's Mill Park, Sunnylea, Humber Bay, Mimico NE, The Queensway East, Royal York South East, Kingsway Park South East\"], ['M9Y', 'Not assigned', 'Not assigned'], ['M1Z', 'Not assigned', 'Not assigned'], ['M2Z', 'Not assigned', 'Not assigned'], ['M3Z', 'Not assigned', 'Not assigned'], ['M4Z', 'Not assigned', 'Not assigned'], ['M5Z', 'Not assigned', 'Not assigned'], ['M6Z', 'Not assigned', 'Not assigned'], ['M7Z', 'Not assigned', 'Not assigned'], ['M8Z', 'Etobicoke', 'Mimico NW, The Queensway West, South of Bloor, Kingsway Park South West, Royal York South West'], ['M9Z', 'Not assigned', 'Not assigned']]]\n"
                }
            ],
            "source": "table = soup.find(\"table\", { \"wikitable sortable\" })\ndata = []\nrows = table.find_all('tr')\nfor row in rows:\n    cols = row.find_all('td')\n    cols = [ele.text.strip() for ele in cols]\n    data.append([ele for ele in cols if ele]) # Get rid of empty values\nprint([data])"
        },
        {
            "cell_type": "markdown",
            "metadata": {},
            "source": "# Data clean\n### 1. Transfter the data from list type to dataframe type\n### 2. Drop all the rows that have 'Not assigned' value in 'Borough'\n### 3. Replace the 'Neighborhoods' if its value is 'Not assigned'"
        },
        {
            "cell_type": "code",
            "execution_count": 48,
            "metadata": {},
            "outputs": [
                {
                    "data": {
                        "text/html": "<div>\n<style scoped>\n    .dataframe tbody tr th:only-of-type {\n        vertical-align: middle;\n    }\n\n    .dataframe tbody tr th {\n        vertical-align: top;\n    }\n\n    .dataframe thead th {\n        text-align: right;\n    }\n</style>\n<table border=\"1\" class=\"dataframe\">\n  <thead>\n    <tr style=\"text-align: right;\">\n      <th></th>\n      <th>Postal Code</th>\n      <th>Borough</th>\n      <th>Neighborhoods</th>\n    </tr>\n  </thead>\n  <tbody>\n    <tr>\n      <th>1</th>\n      <td>M1A</td>\n      <td>Not assigned</td>\n      <td>Not assigned</td>\n    </tr>\n    <tr>\n      <th>2</th>\n      <td>M2A</td>\n      <td>Not assigned</td>\n      <td>Not assigned</td>\n    </tr>\n    <tr>\n      <th>3</th>\n      <td>M3A</td>\n      <td>North York</td>\n      <td>Parkwoods</td>\n    </tr>\n    <tr>\n      <th>4</th>\n      <td>M4A</td>\n      <td>North York</td>\n      <td>Victoria Village</td>\n    </tr>\n    <tr>\n      <th>5</th>\n      <td>M5A</td>\n      <td>Downtown Toronto</td>\n      <td>Regent Park, Harbourfront</td>\n    </tr>\n    <tr>\n      <th>...</th>\n      <td>...</td>\n      <td>...</td>\n      <td>...</td>\n    </tr>\n    <tr>\n      <th>176</th>\n      <td>M5Z</td>\n      <td>Not assigned</td>\n      <td>Not assigned</td>\n    </tr>\n    <tr>\n      <th>177</th>\n      <td>M6Z</td>\n      <td>Not assigned</td>\n      <td>Not assigned</td>\n    </tr>\n    <tr>\n      <th>178</th>\n      <td>M7Z</td>\n      <td>Not assigned</td>\n      <td>Not assigned</td>\n    </tr>\n    <tr>\n      <th>179</th>\n      <td>M8Z</td>\n      <td>Etobicoke</td>\n      <td>Mimico NW, The Queensway West, South of Bloor,...</td>\n    </tr>\n    <tr>\n      <th>180</th>\n      <td>M9Z</td>\n      <td>Not assigned</td>\n      <td>Not assigned</td>\n    </tr>\n  </tbody>\n</table>\n<p>180 rows \u00d7 3 columns</p>\n</div>",
                        "text/plain": "    Postal Code           Borough  \\\n1           M1A      Not assigned   \n2           M2A      Not assigned   \n3           M3A        North York   \n4           M4A        North York   \n5           M5A  Downtown Toronto   \n..          ...               ...   \n176         M5Z      Not assigned   \n177         M6Z      Not assigned   \n178         M7Z      Not assigned   \n179         M8Z         Etobicoke   \n180         M9Z      Not assigned   \n\n                                         Neighborhoods  \n1                                         Not assigned  \n2                                         Not assigned  \n3                                            Parkwoods  \n4                                     Victoria Village  \n5                            Regent Park, Harbourfront  \n..                                                 ...  \n176                                       Not assigned  \n177                                       Not assigned  \n178                                       Not assigned  \n179  Mimico NW, The Queensway West, South of Bloor,...  \n180                                       Not assigned  \n\n[180 rows x 3 columns]"
                    },
                    "execution_count": 48,
                    "metadata": {},
                    "output_type": "execute_result"
                }
            ],
            "source": "#df.columns=['Postal Code','Borough','Neighborhoods']\ndf = pd.DataFrame(data)\ndf.columns=['Postal Code','Borough','Neighborhoods']\ndf = df.iloc[1:]\ndf"
        },
        {
            "cell_type": "code",
            "execution_count": 49,
            "metadata": {},
            "outputs": [
                {
                    "name": "stdout",
                    "output_type": "stream",
                    "text": "After remove Borough with not assigned value:\nSize of dataframe: 103rows, 3columns.\n"
                },
                {
                    "data": {
                        "text/html": "<div>\n<style scoped>\n    .dataframe tbody tr th:only-of-type {\n        vertical-align: middle;\n    }\n\n    .dataframe tbody tr th {\n        vertical-align: top;\n    }\n\n    .dataframe thead th {\n        text-align: right;\n    }\n</style>\n<table border=\"1\" class=\"dataframe\">\n  <thead>\n    <tr style=\"text-align: right;\">\n      <th></th>\n      <th>Postal Code</th>\n      <th>Borough</th>\n      <th>Neighborhoods</th>\n    </tr>\n  </thead>\n  <tbody>\n    <tr>\n      <th>3</th>\n      <td>M3A</td>\n      <td>North York</td>\n      <td>Parkwoods</td>\n    </tr>\n    <tr>\n      <th>4</th>\n      <td>M4A</td>\n      <td>North York</td>\n      <td>Victoria Village</td>\n    </tr>\n    <tr>\n      <th>5</th>\n      <td>M5A</td>\n      <td>Downtown Toronto</td>\n      <td>Regent Park, Harbourfront</td>\n    </tr>\n    <tr>\n      <th>6</th>\n      <td>M6A</td>\n      <td>North York</td>\n      <td>Lawrence Manor, Lawrence Heights</td>\n    </tr>\n    <tr>\n      <th>7</th>\n      <td>M7A</td>\n      <td>Downtown Toronto</td>\n      <td>Queen's Park, Ontario Provincial Government</td>\n    </tr>\n  </tbody>\n</table>\n</div>",
                        "text/plain": "  Postal Code           Borough                                Neighborhoods\n3         M3A        North York                                    Parkwoods\n4         M4A        North York                             Victoria Village\n5         M5A  Downtown Toronto                    Regent Park, Harbourfront\n6         M6A        North York             Lawrence Manor, Lawrence Heights\n7         M7A  Downtown Toronto  Queen's Park, Ontario Provincial Government"
                    },
                    "execution_count": 49,
                    "metadata": {},
                    "output_type": "execute_result"
                }
            ],
            "source": "df.drop(df[df['Borough'] == 'Not assigned'].index, inplace = True)\nprint('After remove Borough with not assigned value:')\nprint('Size of dataframe: '+ str(df.shape[0])+'rows, '+ str(df.shape[1])+'columns.')\ndf.head()"
        },
        {
            "cell_type": "code",
            "execution_count": 50,
            "metadata": {},
            "outputs": [
                {
                    "data": {
                        "text/html": "<div>\n<style scoped>\n    .dataframe tbody tr th:only-of-type {\n        vertical-align: middle;\n    }\n\n    .dataframe tbody tr th {\n        vertical-align: top;\n    }\n\n    .dataframe thead th {\n        text-align: right;\n    }\n</style>\n<table border=\"1\" class=\"dataframe\">\n  <thead>\n    <tr style=\"text-align: right;\">\n      <th></th>\n      <th>Postal Code</th>\n      <th>Borough</th>\n      <th>Neighborhoods</th>\n    </tr>\n  </thead>\n  <tbody>\n  </tbody>\n</table>\n</div>",
                        "text/plain": "Empty DataFrame\nColumns: [Postal Code, Borough, Neighborhoods]\nIndex: []"
                    },
                    "execution_count": 50,
                    "metadata": {},
                    "output_type": "execute_result"
                }
            ],
            "source": "df.loc[df['Neighborhoods'] == 'Not assigned']\n## There is no Neighborhoods is not assigned\n## if there is not assigned value used following code\n## df.loc[(df['Neighborhoods']=='Not assigned'),'Neighborhoods']=df.loc[(df['Neighborhoods']=='Not assigned'),'Borough']"
        },
        {
            "cell_type": "code",
            "execution_count": 51,
            "metadata": {},
            "outputs": [
                {
                    "data": {
                        "text/html": "<div>\n<style scoped>\n    .dataframe tbody tr th:only-of-type {\n        vertical-align: middle;\n    }\n\n    .dataframe tbody tr th {\n        vertical-align: top;\n    }\n\n    .dataframe thead th {\n        text-align: right;\n    }\n</style>\n<table border=\"1\" class=\"dataframe\">\n  <thead>\n    <tr style=\"text-align: right;\">\n      <th></th>\n      <th>Postal Code</th>\n      <th>Borough</th>\n      <th>Neighborhoods</th>\n    </tr>\n  </thead>\n  <tbody>\n    <tr>\n      <th>3</th>\n      <td>M3A</td>\n      <td>North York</td>\n      <td>Parkwoods</td>\n    </tr>\n    <tr>\n      <th>4</th>\n      <td>M4A</td>\n      <td>North York</td>\n      <td>Victoria Village</td>\n    </tr>\n    <tr>\n      <th>5</th>\n      <td>M5A</td>\n      <td>Downtown Toronto</td>\n      <td>Regent Park, Harbourfront</td>\n    </tr>\n    <tr>\n      <th>6</th>\n      <td>M6A</td>\n      <td>North York</td>\n      <td>Lawrence Manor, Lawrence Heights</td>\n    </tr>\n    <tr>\n      <th>7</th>\n      <td>M7A</td>\n      <td>Downtown Toronto</td>\n      <td>Queen's Park, Ontario Provincial Government</td>\n    </tr>\n    <tr>\n      <th>...</th>\n      <td>...</td>\n      <td>...</td>\n      <td>...</td>\n    </tr>\n    <tr>\n      <th>161</th>\n      <td>M8X</td>\n      <td>Etobicoke</td>\n      <td>The Kingsway, Montgomery Road, Old Mill North</td>\n    </tr>\n    <tr>\n      <th>166</th>\n      <td>M4Y</td>\n      <td>Downtown Toronto</td>\n      <td>Church and Wellesley</td>\n    </tr>\n    <tr>\n      <th>169</th>\n      <td>M7Y</td>\n      <td>East Toronto</td>\n      <td>Business reply mail Processing Centre, South C...</td>\n    </tr>\n    <tr>\n      <th>170</th>\n      <td>M8Y</td>\n      <td>Etobicoke</td>\n      <td>Old Mill South, King's Mill Park, Sunnylea, Hu...</td>\n    </tr>\n    <tr>\n      <th>179</th>\n      <td>M8Z</td>\n      <td>Etobicoke</td>\n      <td>Mimico NW, The Queensway West, South of Bloor,...</td>\n    </tr>\n  </tbody>\n</table>\n<p>103 rows \u00d7 3 columns</p>\n</div>",
                        "text/plain": "    Postal Code           Borough  \\\n3           M3A        North York   \n4           M4A        North York   \n5           M5A  Downtown Toronto   \n6           M6A        North York   \n7           M7A  Downtown Toronto   \n..          ...               ...   \n161         M8X         Etobicoke   \n166         M4Y  Downtown Toronto   \n169         M7Y      East Toronto   \n170         M8Y         Etobicoke   \n179         M8Z         Etobicoke   \n\n                                         Neighborhoods  \n3                                            Parkwoods  \n4                                     Victoria Village  \n5                            Regent Park, Harbourfront  \n6                     Lawrence Manor, Lawrence Heights  \n7          Queen's Park, Ontario Provincial Government  \n..                                                 ...  \n161      The Kingsway, Montgomery Road, Old Mill North  \n166                               Church and Wellesley  \n169  Business reply mail Processing Centre, South C...  \n170  Old Mill South, King's Mill Park, Sunnylea, Hu...  \n179  Mimico NW, The Queensway West, South of Bloor,...  \n\n[103 rows x 3 columns]"
                    },
                    "execution_count": 51,
                    "metadata": {},
                    "output_type": "execute_result"
                }
            ],
            "source": "df"
        }
    ],
    "metadata": {
        "kernelspec": {
            "display_name": "Python 3.7",
            "language": "python",
            "name": "python3"
        },
        "language_info": {
            "codemirror_mode": {
                "name": "ipython",
                "version": 3
            },
            "file_extension": ".py",
            "mimetype": "text/x-python",
            "name": "python",
            "nbconvert_exporter": "python",
            "pygments_lexer": "ipython3",
            "version": "3.7.9"
        }
    },
    "nbformat": 4,
    "nbformat_minor": 1
}